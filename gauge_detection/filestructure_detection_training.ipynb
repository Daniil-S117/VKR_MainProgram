{
 "cells": [
  {
   "cell_type": "markdown",
   "id": "209da03b",
   "metadata": {},
   "source": [
    "# Формат Yolov8\n",
    "Yolov8 хочет иметь следующий формат: папки train, val и test. Для каждой из них есть папка images и папка labels. Для каждого изображения в папке images есть файл .txt с тем же именем и соответствующими метками. Чтобы получить метки для сегментации, посмотрите JSON2YOLO на github <https://github.com/ultralytics/JSON2YOLO>.\n",
    "\n",
    "Для индивидуального использования измените пути соответствующим образом"
   ]
  },
  {
   "cell_type": "code",
   "execution_count": null,
   "id": "81e532c5",
   "metadata": {},
   "outputs": [],
   "source": [
    "# Получить имена всех файлов\n",
    "\n",
    "import os\n",
    "image_directory = 'data/images'\n",
    " \n",
    "# получить имена всех файлов изображений\n",
    "filenames = []\n",
    "for filename in os.listdir(image_directory):\n",
    "    filenames.append(filename[:-4]) # last 4 characters are '.jpg'"
   ]
  },
  {
   "cell_type": "code",
   "execution_count": null,
   "id": "d8b44590",
   "metadata": {},
   "outputs": [],
   "source": [
    "# Первоначально данные об игле манометра и лицевой стороне манометра разделены. С помощью этого мы объединили метки.\n",
    "# 0 соответствует торцу манометра, 1 - игле манометра\n",
    "\n",
    "def merge_labels(gauge_face_path, gauge_needle_path, dst_path):\n",
    "    for filename in filenames:\n",
    "        with open(dst_path + filename+'.txt', 'w') as outfile:\n",
    "            with open(gauge_face_path+filename+'.txt') as infile:\n",
    "                outfile.write(infile.read())\n",
    "            with open(gauge_needle_path+filename+'.txt') as infile:\n",
    "                for line in infile:\n",
    "                    line = '1' + line[1:]\n",
    "                    outfile.write(line)"
   ]
  },
  {
   "cell_type": "code",
   "execution_count": null,
   "id": "83c9cb0f",
   "metadata": {},
   "outputs": [],
   "source": [
    "gauge_face_path = 'data/gauge_face/annotations/bbox_labels_yolo/'\n",
    "gauge_needle_path = 'data/gauge_needle/annotations/bbox_labels_yolo/'\n",
    "path_bbox_labels = 'data/bbox_labels/'\n",
    "merge_labels(gauge_face_path, gauge_needle_path, path_bbox_labels)\n",
    "gauge_face_path = 'data/gauge_face/annotations/segmentation_labels_yolo/'\n",
    "gauge_needle_path = 'data/gauge_needle/annotations/segmentation_labels_yolo/'\n",
    "path_segmentation_labels = 'data/segmentation_labels/'\n",
    "merge_labels(gauge_face_path, gauge_needle_path, path_segmentation_labels)\n"
   ]
  },
  {
   "cell_type": "code",
   "execution_count": null,
   "id": "1b11c50b",
   "metadata": {
    "scrolled": true
   },
   "outputs": [],
   "source": [
    "# разделите изображения на обучающий, контрольный и тестовый наборы\n",
    "\n",
    "import random\n",
    "\n",
    "def split_dataset(filenames):\n",
    "    # Предположим, что у вас есть список имен файлов с именем «all_filenames».\n",
    "    random.shuffle(filenames)\n",
    "\n",
    "    # вычислите размер каждого набора\n",
    "    num_files = len(filenames)\n",
    "    num_train = int(0.8 * num_files)  # 80% for training\n",
    "    num_val = int(0.1 * num_files)   # 10% for validation\n",
    "    num_test = num_files - num_train - num_val  # remaining 10% for test\n",
    "\n",
    "    # Разделите список на три группы\n",
    "    train_filenames = filenames[:num_train]\n",
    "    val_filenames = filenames[num_train:num_train+num_val]\n",
    "    test_filenames = filenames[num_train+num_val:]\n",
    "\n",
    "    # Напечатайте размеры каждого набора\n",
    "    print(f\"Количество файлов в обучающем наборе: {len(train_filenames)}\")\n",
    "    print(f\"Количество файлов в наборе для проверки: {len(val_filenames)}\")\n",
    "    print(f\"Количество файлов в тестовом наборе: {len(test_filenames)}\")\n",
    "    \n",
    "    return train_filenames, val_filenames, test_filenames\n",
    "\n",
    "\n",
    "train_filenames, val_filenames, test_filenames = split_dataset(filenames)"
   ]
  },
  {
   "cell_type": "code",
   "execution_count": null,
   "id": "040cfa28",
   "metadata": {},
   "outputs": [],
   "source": [
    "# Создание структуры папок\n",
    "import os\n",
    "dir_base = ['segmentation','detection']\n",
    "modes = ['train', 'val', 'test']\n",
    "for base in dir_base:\n",
    "    for mode in modes:\n",
    "        path = 'data/' + base + '/' + mode +'/images'\n",
    "        os.makedirs(path, exist_ok=True)\n",
    "        path = 'data/' + base + '/' + mode +'/labels'\n",
    "        os.makedirs(path, exist_ok=True)"
   ]
  },
  {
   "cell_type": "code",
   "execution_count": null,
   "id": "edb46dcc",
   "metadata": {},
   "outputs": [],
   "source": [
    "import shutil\n",
    "\n",
    "# скопировать изображение и файл метки с заданным именем файла в соответствующие папки в новой структуре папок\n",
    "def copy_pair(src_dir, target_dir, file_name, mode):\n",
    "    src = image_directory + '/' + file_name + \".jpg\"\n",
    "    dst = target_dir + '/' + mode +'/images/' + file_name + \".jpg\"\n",
    "    shutil.copy2(src, dst)\n",
    "    src = src_dir + '/' + file_name + \".txt\"\n",
    "    dst = target_dir + '/' + mode +'/labels/' + file_name + \".txt\"\n",
    "    shutil.copy2(src, dst)\n",
    "\n",
    "# для каждого набора скопируйте все метки и изображения из этого набора в соответствующие \n",
    "def copy_split(src_dir, target_dir):\n",
    "    for name in train_filenames:\n",
    "        copy_pair(src_dir, target_dir, name, 'train')\n",
    "    for name in val_filenames:\n",
    "        copy_pair(src_dir, target_dir, name, 'val')\n",
    "    for name in test_filenames:\n",
    "        copy_pair(src_dir, target_dir, name, 'test')\n",
    "\n",
    "copy_split(path_segmentation_labels, 'data/segmentation')\n",
    "copy_split(path_bbox_labels, 'data/detection')\n"
   ]
  }
 ],
 "metadata": {
  "kernelspec": {
   "display_name": "Python 3",
   "language": "python",
   "name": "python3"
  },
  "language_info": {
   "codemirror_mode": {
    "name": "ipython",
    "version": 3
   },
   "file_extension": ".py",
   "mimetype": "text/x-python",
   "name": "python",
   "nbconvert_exporter": "python",
   "pygments_lexer": "ipython3",
   "version": "3.8.8"
  }
 },
 "nbformat": 4,
 "nbformat_minor": 5
}
