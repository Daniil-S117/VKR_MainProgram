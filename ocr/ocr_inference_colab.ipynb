{
  "cells": [
    {
      "cell_type": "markdown",
      "metadata": {
        "id": "We6Tr7MockoZ"
      },
      "source": [
        "# Настройка и инсталляция"
      ]
    },
    {
      "cell_type": "code",
      "execution_count": null,
      "metadata": {
        "id": "kvELnLgCjM8Y"
      },
      "outputs": [],
      "source": [
        "!pip3 install openmim\n",
        "!mim install mmengine\n",
        "!mim install 'mmcv>=2.0.0rc1'\n",
        "!mim install 'mmdet>=3.0.0rc0'\n",
        "!git clone https://github.com/open-mmlab/mmocr.git\n",
        "%cd mmocr\n",
        "!git checkout 1.x\n",
        "!pip3 install -e ."
      ]
    },
    {
      "cell_type": "markdown",
      "metadata": {
        "id": "CnifrfAScis0"
      },
      "source": []
    },
    {
      "cell_type": "code",
      "execution_count": null,
      "metadata": {
        "id": "MOSlDJoYlKM2"
      },
      "outputs": [],
      "source": [
        "# Проверьте установку Pytorch \n",
        "import torch, torchvision\n",
        "print(torch.__version__, torch.cuda.is_available())\n",
        "\n",
        "# Проверьте установку MMDetection\n",
        "import mmdet\n",
        "print(mmdet.__version__)\n",
        "\n",
        "# Проверьте установку mmcv\n",
        "import mmcv\n",
        "from mmcv.ops import get_compiling_cuda_version, get_compiler_version\n",
        "print(mmcv.__version__)\n",
        "print(get_compiling_cuda_version())\n",
        "print(get_compiler_version())\n",
        "\n",
        "# Проверьте установку mmocr\n",
        "import mmocr\n",
        "print(mmocr.__version__)"
      ]
    },
    {
      "cell_type": "code",
      "execution_count": null,
      "metadata": {
        "id": "D9Is_iz6PfMu"
      },
      "outputs": [],
      "source": [
        "from google.colab import drive\n",
        "drive.mount('/content/drive')"
      ]
    },
    {
      "cell_type": "markdown",
      "metadata": {
        "id": "G93FVD_icrzm"
      },
      "source": [
        "# Вывод"
      ]
    },
    {
      "cell_type": "code",
      "execution_count": null,
      "metadata": {
        "id": "pCUc_HtTQSD6"
      },
      "outputs": [],
      "source": [
        "from mmocr.ocr import MMOCR\n",
        "\n",
        "img_directory = '/content/drive/MyDrive/Analogue Gauge Reading/task detection - data/detection/train/images/'\n",
        "img_path =  img_directory + '20220613_193719573_iOS_jpg.rf.ff724329334c6028e226cbecfc15b6b2.jpg'\n",
        "o_path = '/content/drive/MyDrive/Analogue Gauge Reading/'\n",
        "\n",
        "# Загружайте модели в память\n",
        "ocr = MMOCR(det='DB_r18', recog='ABINet')\n",
        "\n",
        "# Вывод\n",
        "results = ocr.readtext(img_path, img_out_dir=o_path)"
      ]
    },
    {
      "cell_type": "code",
      "execution_count": null,
      "metadata": {
        "id": "1oZA3aOomsUv"
      },
      "outputs": [],
      "source": [
        "# импорт необходимого модуля\n",
        "import os\n",
        "# назначить каталог\n",
        "img_directory = '/content/drive/MyDrive/Analogue Gauge Reading/task detection - data/detection/train/images/'\n",
        " \n",
        "# выполнить перебор файлов в\n",
        "# этом каталоге\n",
        "filenames = []\n",
        "for filename in os.listdir(img_directory):\n",
        "    filenames.append(img_directory + filename)"
      ]
    },
    {
      "cell_type": "code",
      "execution_count": null,
      "metadata": {
        "id": "YH00HP6d8Nys"
      },
      "outputs": [],
      "source": [
        "from tqdm import tqdm\n",
        "\n",
        "det_model = 'DBPP_r50'\n",
        "recog_model = 'ABINet'\n",
        "\n",
        "o_path = '/content/drive/MyDrive/Analogue Gauge Reading/mmocr/' + det_model + \" - \" + recog_model\n",
        "\n",
        "# Загружать модели в память\n",
        "ocr = MMOCR(det=det_model, recog=recog_model)\n",
        "\n",
        "for filename in tqdm(filenames[0:50]):\n",
        "   results = ocr.readtext(filename, img_out_dir=o_path)"
      ]
    },
    {
      "cell_type": "code",
      "execution_count": null,
      "metadata": {
        "id": "xMCbb2HJ8uCR"
      },
      "outputs": [],
      "source": [
        "len(filenames)"
      ]
    },
    {
      "cell_type": "code",
      "execution_count": null,
      "metadata": {
        "id": "uw3gOlK8D56o"
      },
      "outputs": [],
      "source": [
        "det_model = 'PANet_IC15'\n",
        "recog_model = 'ABINet'\n",
        "\n",
        "o_path = '/content/drive/MyDrive/Analogue Gauge Reading/mmocr/' + det_model + \" - \" + recog_model"
      ]
    }
  ],
  "metadata": {
    "accelerator": "GPU",
    "colab": {
      "provenance": []
    },
    "gpuClass": "standard",
    "kernelspec": {
      "display_name": "Python 3",
      "name": "python3"
    },
    "language_info": {
      "name": "python"
    }
  },
  "nbformat": 4,
  "nbformat_minor": 0
}
